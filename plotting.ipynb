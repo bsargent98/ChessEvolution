{
 "cells": [
  {
   "cell_type": "code",
   "execution_count": 1,
   "metadata": {},
   "outputs": [],
   "source": [
    "#Import libraries\n",
    "import pandas as pd\n",
    "import matplotlib.pyplot as plt\n",
    "import numpy as np"
   ]
  },
  {
   "cell_type": "code",
   "execution_count": 2,
   "metadata": {
    "scrolled": false
   },
   "outputs": [
    {
     "data": {
      "text/html": [
       "<div>\n",
       "<style scoped>\n",
       "    .dataframe tbody tr th:only-of-type {\n",
       "        vertical-align: middle;\n",
       "    }\n",
       "\n",
       "    .dataframe tbody tr th {\n",
       "        vertical-align: top;\n",
       "    }\n",
       "\n",
       "    .dataframe thead th {\n",
       "        text-align: right;\n",
       "    }\n",
       "</style>\n",
       "<table border=\"1\" class=\"dataframe\">\n",
       "  <thead>\n",
       "    <tr style=\"text-align: right;\">\n",
       "      <th></th>\n",
       "      <th>length</th>\n",
       "      <th>white</th>\n",
       "      <th>black</th>\n",
       "      <th>draw</th>\n",
       "      <th>unknown</th>\n",
       "    </tr>\n",
       "  </thead>\n",
       "  <tbody>\n",
       "    <tr>\n",
       "      <th>112</th>\n",
       "      <td>0</td>\n",
       "      <td>499</td>\n",
       "      <td>468</td>\n",
       "      <td>246</td>\n",
       "      <td>0</td>\n",
       "    </tr>\n",
       "    <tr>\n",
       "      <th>134</th>\n",
       "      <td>1</td>\n",
       "      <td>82</td>\n",
       "      <td>90</td>\n",
       "      <td>44</td>\n",
       "      <td>1</td>\n",
       "    </tr>\n",
       "    <tr>\n",
       "      <th>94</th>\n",
       "      <td>2</td>\n",
       "      <td>56</td>\n",
       "      <td>50</td>\n",
       "      <td>52</td>\n",
       "      <td>1</td>\n",
       "    </tr>\n",
       "    <tr>\n",
       "      <th>106</th>\n",
       "      <td>3</td>\n",
       "      <td>194</td>\n",
       "      <td>181</td>\n",
       "      <td>645</td>\n",
       "      <td>0</td>\n",
       "    </tr>\n",
       "    <tr>\n",
       "      <th>101</th>\n",
       "      <td>4</td>\n",
       "      <td>564</td>\n",
       "      <td>437</td>\n",
       "      <td>2069</td>\n",
       "      <td>2</td>\n",
       "    </tr>\n",
       "  </tbody>\n",
       "</table>\n",
       "</div>"
      ],
      "text/plain": [
       "     length  white  black  draw  unknown\n",
       "112       0    499    468   246        0\n",
       "134       1     82     90    44        1\n",
       "94        2     56     50    52        1\n",
       "106       3    194    181   645        0\n",
       "101       4    564    437  2069        2"
      ]
     },
     "execution_count": 2,
     "metadata": {},
     "output_type": "execute_result"
    }
   ],
   "source": [
    "simple_dists = pd.read_csv('data/simple_dists.csv')\n",
    "sd = simple_dists.sort_values(by='length')\n",
    "sd.head()"
   ]
  },
  {
   "cell_type": "code",
   "execution_count": 3,
   "metadata": {},
   "outputs": [],
   "source": [
    "#print(sum(sd['total')"
   ]
  },
  {
   "cell_type": "code",
   "execution_count": 4,
   "metadata": {},
   "outputs": [
    {
     "name": "stdout",
     "output_type": "stream",
     "text": [
      "26632.833333333332\n",
      "45721.30026109697\n",
      "749.5\n",
      "24.25\n",
      "32444.75\n"
     ]
    }
   ],
   "source": [
    "sd['total'] = sd['white'] + sd['black'] + sd['draw']\n",
    "mean = sd['total'].mean()\n",
    "std = sd['total'].std()\n",
    "med = sd['total'].median()\n",
    "Q1 = sd['total'].quantile(.25)\n",
    "Q3 = sd['total'].quantile(.75)\n",
    "print(mean)\n",
    "print(std)\n",
    "print(med)\n",
    "print(Q1)\n",
    "print(Q3)"
   ]
  },
  {
   "cell_type": "code",
   "execution_count": 5,
   "metadata": {},
   "outputs": [
    {
     "name": "stdout",
     "output_type": "stream",
     "text": [
      "5592895\n",
      "5574957\n",
      "99.68%\n"
     ]
    }
   ],
   "source": [
    "region = sd.loc[sd['length'] >= 1]\n",
    "region = region.loc[region['length'] <= 100]\n",
    "print(sum(sd['total']))\n",
    "print(sum(region['total']))\n",
    "print('{}%'.format(round(100*sum(region['total'])/sum(sd['total']), 2)))\n",
    "#region"
   ]
  },
  {
   "cell_type": "code",
   "execution_count": 13,
   "metadata": {
    "scrolled": true
   },
   "outputs": [
    {
     "data": {
      "image/png": "[encoded data removed]",
      "text/plain": [
       "<Figure size 432x288 with 2 Axes>"
      ]
     },
     "metadata": {
      "needs_background": "light"
     },
     "output_type": "display_data"
    }
   ],
   "source": [
    "fig, ax1 = plt.subplots()\n",
    "ax2 = ax1.twinx()\n",
    "\n",
    "region_draw_prop = region['draw']/(region['white'] + region['black'] + region['draw'])\n",
    "\n",
    "coef = np.polyfit(region['length'],region_draw_prop,1)\n",
    "poly1d_fn = np.poly1d(coef)\n",
    "coef = np.polyfit(region['length'],region_draw_prop,2)\n",
    "poly2d_fn = np.poly1d(coef)\n",
    "coef = np.polyfit(region['length'],region_draw_prop,3)\n",
    "poly3d_fn = np.poly1d(coef)\n",
    "\n",
    "ax1.plot(region['length'], region_draw_prop, color='blue')\n",
    "ax1.set_ylabel('Proportion of games ending in draw', color='blue')  \n",
    "ax1.tick_params(axis='y', labelcolor='blue')\n",
    "\n",
    "ax1.set_xlabel('Game length')  \n",
    "\n",
    "#ax1.plot(region['length'], poly1d_fn(region['length']), '--k')\n",
    "#ax1.plot(region['length'], poly2d_fn(region['length']), '--k')\n",
    "#ax1.plot(region['length'], poly3d_fn(region['length']), '--k')\n",
    "\n",
    "ax2.plot(region['length'], region['total'], color='r')\n",
    "ax2.set_ylabel('Total games', color='r')  \n",
    "ax2.tick_params(axis='y', labelcolor='r')"
   ]
  },
  {
   "cell_type": "code",
   "execution_count": 7,
   "metadata": {},
   "outputs": [
    {
     "data": {
      "text/html": [
       "<div>\n",
       "<style scoped>\n",
       "    .dataframe tbody tr th:only-of-type {\n",
       "        vertical-align: middle;\n",
       "    }\n",
       "\n",
       "    .dataframe tbody tr th {\n",
       "        vertical-align: top;\n",
       "    }\n",
       "\n",
       "    .dataframe thead th {\n",
       "        text-align: right;\n",
       "    }\n",
       "</style>\n",
       "<table border=\"1\" class=\"dataframe\">\n",
       "  <thead>\n",
       "    <tr style=\"text-align: right;\">\n",
       "      <th></th>\n",
       "      <th>length</th>\n",
       "      <th>white</th>\n",
       "      <th>black</th>\n",
       "      <th>draw</th>\n",
       "      <th>unknown</th>\n",
       "      <th>total</th>\n",
       "    </tr>\n",
       "  </thead>\n",
       "  <tbody>\n",
       "    <tr>\n",
       "      <th>117</th>\n",
       "      <td>1</td>\n",
       "      <td>37</td>\n",
       "      <td>38</td>\n",
       "      <td>22</td>\n",
       "      <td>0</td>\n",
       "      <td>97</td>\n",
       "    </tr>\n",
       "    <tr>\n",
       "      <th>152</th>\n",
       "      <td>2</td>\n",
       "      <td>24</td>\n",
       "      <td>21</td>\n",
       "      <td>26</td>\n",
       "      <td>0</td>\n",
       "      <td>71</td>\n",
       "    </tr>\n",
       "    <tr>\n",
       "      <th>95</th>\n",
       "      <td>3</td>\n",
       "      <td>95</td>\n",
       "      <td>72</td>\n",
       "      <td>322</td>\n",
       "      <td>0</td>\n",
       "      <td>489</td>\n",
       "    </tr>\n",
       "    <tr>\n",
       "      <th>101</th>\n",
       "      <td>4</td>\n",
       "      <td>334</td>\n",
       "      <td>235</td>\n",
       "      <td>986</td>\n",
       "      <td>2</td>\n",
       "      <td>1555</td>\n",
       "    </tr>\n",
       "    <tr>\n",
       "      <th>84</th>\n",
       "      <td>5</td>\n",
       "      <td>293</td>\n",
       "      <td>266</td>\n",
       "      <td>1828</td>\n",
       "      <td>4</td>\n",
       "      <td>2387</td>\n",
       "    </tr>\n",
       "  </tbody>\n",
       "</table>\n",
       "</div>"
      ],
      "text/plain": [
       "     length  white  black  draw  unknown  total\n",
       "117       1     37     38    22        0     97\n",
       "152       2     24     21    26        0     71\n",
       "95        3     95     72   322        0    489\n",
       "101       4    334    235   986        2   1555\n",
       "84        5    293    266  1828        4   2387"
      ]
     },
     "execution_count": 7,
     "metadata": {},
     "output_type": "execute_result"
    }
   ],
   "source": [
    "e4_dists = pd.read_csv('data/e4_dists.csv')\n",
    "e4 = e4_dists.sort_values(by='length')\n",
    "e4['total'] = e4['white'] + e4['black'] + e4['draw']\n",
    "e4.head()"
   ]
  },
  {
   "cell_type": "code",
   "execution_count": 8,
   "metadata": {},
   "outputs": [
    {
     "data": {
      "text/html": [
       "<div>\n",
       "<style scoped>\n",
       "    .dataframe tbody tr th:only-of-type {\n",
       "        vertical-align: middle;\n",
       "    }\n",
       "\n",
       "    .dataframe tbody tr th {\n",
       "        vertical-align: top;\n",
       "    }\n",
       "\n",
       "    .dataframe thead th {\n",
       "        text-align: right;\n",
       "    }\n",
       "</style>\n",
       "<table border=\"1\" class=\"dataframe\">\n",
       "  <thead>\n",
       "    <tr style=\"text-align: right;\">\n",
       "      <th></th>\n",
       "      <th>length</th>\n",
       "      <th>white</th>\n",
       "      <th>black</th>\n",
       "      <th>draw</th>\n",
       "      <th>unknown</th>\n",
       "      <th>total</th>\n",
       "    </tr>\n",
       "  </thead>\n",
       "  <tbody>\n",
       "    <tr>\n",
       "      <th>135</th>\n",
       "      <td>1</td>\n",
       "      <td>45</td>\n",
       "      <td>52</td>\n",
       "      <td>22</td>\n",
       "      <td>1</td>\n",
       "      <td>119</td>\n",
       "    </tr>\n",
       "    <tr>\n",
       "      <th>81</th>\n",
       "      <td>2</td>\n",
       "      <td>32</td>\n",
       "      <td>29</td>\n",
       "      <td>26</td>\n",
       "      <td>1</td>\n",
       "      <td>87</td>\n",
       "    </tr>\n",
       "    <tr>\n",
       "      <th>97</th>\n",
       "      <td>3</td>\n",
       "      <td>99</td>\n",
       "      <td>109</td>\n",
       "      <td>323</td>\n",
       "      <td>0</td>\n",
       "      <td>531</td>\n",
       "    </tr>\n",
       "    <tr>\n",
       "      <th>87</th>\n",
       "      <td>4</td>\n",
       "      <td>230</td>\n",
       "      <td>202</td>\n",
       "      <td>1083</td>\n",
       "      <td>0</td>\n",
       "      <td>1515</td>\n",
       "    </tr>\n",
       "    <tr>\n",
       "      <th>69</th>\n",
       "      <td>5</td>\n",
       "      <td>335</td>\n",
       "      <td>309</td>\n",
       "      <td>2110</td>\n",
       "      <td>0</td>\n",
       "      <td>2754</td>\n",
       "    </tr>\n",
       "  </tbody>\n",
       "</table>\n",
       "</div>"
      ],
      "text/plain": [
       "     length  white  black  draw  unknown  total\n",
       "135       1     45     52    22        1    119\n",
       "81        2     32     29    26        1     87\n",
       "97        3     99    109   323        0    531\n",
       "87        4    230    202  1083        0   1515\n",
       "69        5    335    309  2110        0   2754"
      ]
     },
     "execution_count": 8,
     "metadata": {},
     "output_type": "execute_result"
    }
   ],
   "source": [
    "not_e4_dists = pd.read_csv('data/not_e4_dists.csv')\n",
    "ne4 = not_e4_dists.sort_values(by='length')\n",
    "ne4['total'] = ne4['white'] + ne4['black'] + ne4['draw']\n",
    "ne4.head()"
   ]
  },
  {
   "cell_type": "code",
   "execution_count": 9,
   "metadata": {},
   "outputs": [],
   "source": [
    "e4_reg = e4.loc[e4['length'] >= 1]\n",
    "e4_reg = e4_reg.loc[e4_reg['length'] <= 100]\n",
    "ne4_reg = ne4.loc[ne4['length'] >= 1]\n",
    "ne4_reg = ne4_reg.loc[ne4_reg['length'] <= 100]"
   ]
  },
  {
   "cell_type": "code",
   "execution_count": 10,
   "metadata": {},
   "outputs": [
    {
     "data": {
      "image/png": "[encoded data removed]",
      "text/plain": [
       "<Figure size 432x288 with 2 Axes>"
      ]
     },
     "metadata": {
      "needs_background": "light"
     },
     "output_type": "display_data"
    }
   ],
   "source": [
    "fig, ax1 = plt.subplots()\n",
    "ax2 = ax1.twinx()\n",
    "\n",
    "ax1.plot(e4_reg['length'], e4_reg['total'], color='blue')\n",
    "ax1.set_ylabel('Games opening with e4', color='blue')  \n",
    "ax1.tick_params(axis='y', labelcolor='blue')\n",
    "\n",
    "ax1.set_xlabel('Game length')\n",
    "\n",
    "ax2.plot(ne4_reg['length'], ne4_reg['total'], color='r')\n",
    "ax2.set_ylabel('Games not opening with e4', color='r')  \n",
    "ax2.tick_params(axis='y', labelcolor='r')"
   ]
  },
  {
   "cell_type": "code",
   "execution_count": 11,
   "metadata": {},
   "outputs": [
    {
     "data": {
      "text/plain": [
       "(0, 1)"
      ]
     },
     "execution_count": 11,
     "metadata": {},
     "output_type": "execute_result"
    },
    {
     "data": {
      "image/png": "[encoded data removed]",
      "text/plain": [
       "<Figure size 432x288 with 2 Axes>"
      ]
     },
     "metadata": {
      "needs_background": "light"
     },
     "output_type": "display_data"
    }
   ],
   "source": [
    "fig, ax1 = plt.subplots()\n",
    "ax2 = ax1.twinx()\n",
    "\n",
    "e4_reg_draw_prop = e4_reg['draw']/(e4_reg['white'] + e4_reg['black'] + e4_reg['draw'])\n",
    "ne4_reg_draw_prop = ne4_reg['draw']/(ne4_reg['white'] + ne4_reg['black'] + ne4_reg['draw'])\n",
    "\n",
    "'''\n",
    "coef = np.polyfit(region['length'],region_draw_prop,1)\n",
    "poly1d_fn = np.poly1d(coef)\n",
    "coef = np.polyfit(region['length'],region_draw_prop,2)\n",
    "poly2d_fn = np.poly1d(coef)\n",
    "coef = np.polyfit(region['length'],region_draw_prop,3)\n",
    "poly3d_fn = np.poly1d(coef)\n",
    "'''\n",
    "\n",
    "ax1.plot(e4_reg['length'], e4_reg_draw_prop, color='blue')\n",
    "ax1.set_ylabel('Proportion of e4 games ending in draw', color='blue')  \n",
    "ax1.tick_params(axis='y', labelcolor='blue')\n",
    "ax1.set_ylim(0, 1)\n",
    "\n",
    "ax1.set_xlabel('Game length')  \n",
    "\n",
    "#ax1.plot(region['length'], poly1d_fn(region['length']), '--k')\n",
    "#ax1.plot(region['length'], poly2d_fn(region['length']), '--k')\n",
    "#ax1.plot(region['length'], poly3d_fn(region['length']), '--k')\n",
    "\n",
    "ax2.plot(ne4_reg['length'], ne4_reg_draw_prop, color='r')\n",
    "ax2.set_ylabel('Proportion of non-e4 games ending in draw', color='r')  \n",
    "ax2.tick_params(axis='y', labelcolor='r')\n",
    "ax2.set_ylim(0, 1)"
   ]
  }
 ],
 "metadata": {
  "kernelspec": {
   "display_name": "Python 3",
   "language": "python",
   "name": "python3"
  },
  "language_info": {
   "codemirror_mode": {
    "name": "ipython",
    "version": 3
   },
   "file_extension": ".py",
   "mimetype": "text/x-python",
   "name": "python",
   "nbconvert_exporter": "python",
   "pygments_lexer": "ipython3",
   "version": "3.7.1"
  }
 },
 "nbformat": 4,
 "nbformat_minor": 2
}
